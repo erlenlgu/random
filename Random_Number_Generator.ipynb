{
  "nbformat": 4,
  "nbformat_minor": 0,
  "metadata": {
    "colab": {
      "name": "Random Number Generator.ipynb",
      "provenance": [],
      "authorship_tag": "ABX9TyO3YJr/yOwCG4dLL34xwXy/",
      "include_colab_link": true
    },
    "kernelspec": {
      "name": "python3",
      "display_name": "Python 3"
    },
    "language_info": {
      "name": "python"
    }
  },
  "cells": [
    {
      "cell_type": "markdown",
      "metadata": {
        "id": "view-in-github",
        "colab_type": "text"
      },
      "source": [
        "<a href=\"https://colab.research.google.com/github/erlenlgu/random/blob/main/Random_Number_Generator.ipynb\" target=\"_parent\"><img src=\"https://colab.research.google.com/assets/colab-badge.svg\" alt=\"Open In Colab\"/></a>"
      ]
    },
    {
      "cell_type": "markdown",
      "metadata": {
        "id": "_oZNiagwxJ8F"
      },
      "source": [
        "# New Section Random number generator\n"
      ]
    },
    {
      "cell_type": "code",
      "metadata": {
        "colab": {
          "base_uri": "https://localhost:8080/"
        },
        "id": "fXwYPGObxAm8",
        "outputId": "520f8869-05ca-4c4b-f047-c7e4c4060080"
      },
      "source": [
        "import numpy as np\n",
        "import random\n",
        "\n",
        "lucky_people = []\n",
        "\n",
        "while len(lucky_people) < 3:\n",
        "    nr = random.randint(1,11)\n",
        "    if nr not in lucky_people:\n",
        "      lucky_people.append(nr)\n",
        "\n",
        "lucky_people"
      ],
      "execution_count": 21,
      "outputs": [
        {
          "output_type": "execute_result",
          "data": {
            "text/plain": [
              "[10, 2, 11]"
            ]
          },
          "metadata": {},
          "execution_count": 21
        }
      ]
    }
  ]
}