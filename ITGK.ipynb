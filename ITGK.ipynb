{
  "nbformat": 4,
  "nbformat_minor": 0,
  "metadata": {
    "colab": {
      "name": "ITGK.ipynb",
      "provenance": [],
      "collapsed_sections": [],
      "authorship_tag": "ABX9TyNwD1IEZagBnj8yzfVmrQ+H",
      "include_colab_link": true
    },
    "kernelspec": {
      "name": "python3",
      "display_name": "Python 3"
    },
    "language_info": {
      "name": "python"
    }
  },
  "cells": [
    {
      "cell_type": "markdown",
      "metadata": {
        "id": "view-in-github",
        "colab_type": "text"
      },
      "source": [
        "<a href=\"https://colab.research.google.com/github/erlenlgu/random/blob/main/ITGK.ipynb\" target=\"_parent\"><img src=\"https://colab.research.google.com/assets/colab-badge.svg\" alt=\"Open In Colab\"/></a>"
      ]
    },
    {
      "cell_type": "code",
      "metadata": {
        "id": "tWGl16eOj3hq"
      },
      "source": [
        "import numpy as np\n",
        "import matplotlib.pyplot as plt\n",
        "import math\n",
        "import scipy\n",
        "import random\n",
        "import pandas"
      ],
      "execution_count": 1,
      "outputs": []
    },
    {
      "cell_type": "markdown",
      "metadata": {
        "id": "zIspycfIOaro"
      },
      "source": [
        "# Remove duplicates in list (HACK om rekkefølgen ikke er viktig)"
      ]
    },
    {
      "cell_type": "code",
      "metadata": {
        "colab": {
          "base_uri": "https://localhost:8080/"
        },
        "id": "w_GTSlY6Of6X",
        "outputId": "a6b3ddd0-1636-460e-bd42-b3b15b36b96d"
      },
      "source": [
        "# First convert to set, then convert back to list\n",
        "a = [1,2,3,3,4,5,5,5,5,'alpha','alpha','beta']\n",
        "list(set(a))"
      ],
      "execution_count": 84,
      "outputs": [
        {
          "output_type": "execute_result",
          "data": {
            "text/plain": [
              "[1, 2, 3, 4, 5, 'beta', 'alpha']"
            ]
          },
          "metadata": {},
          "execution_count": 84
        }
      ]
    },
    {
      "cell_type": "markdown",
      "metadata": {
        "id": "6g_qr9W6QHXm"
      },
      "source": [
        "# If / elif / else in one line"
      ]
    },
    {
      "cell_type": "code",
      "metadata": {
        "colab": {
          "base_uri": "https://localhost:8080/"
        },
        "id": "YLeCjkhlQHio",
        "outputId": "a44ecf7c-676f-43b7-9a6a-78e25d21a8d4"
      },
      "source": [
        "title = 'Title'\n",
        "if title.lower() == 'title': print(title.upper())"
      ],
      "execution_count": 98,
      "outputs": [
        {
          "output_type": "stream",
          "name": "stdout",
          "text": [
            "TITLE\n"
          ]
        }
      ]
    },
    {
      "cell_type": "markdown",
      "metadata": {
        "id": "CuZ4XICemAnA"
      },
      "source": [
        "# Tell antall like bokstaver i tuple med strings (eksempel seier/uavgjort/tap)"
      ]
    },
    {
      "cell_type": "code",
      "metadata": {
        "colab": {
          "base_uri": "https://localhost:8080/"
        },
        "id": "BpKmP2S5mAL6",
        "outputId": "60dd5e10-842b-4f47-f040-590db4f3469c"
      },
      "source": [
        "def home_draw_away(matches):\n",
        "  result = [0,0,0]\n",
        "  for el in matches:\n",
        "    if el.lower() == 'h':\n",
        "      result[0] += 1\n",
        "    elif el.lower() == 'u':\n",
        "      result[1] += 1\n",
        "    elif el.lower() == 'b':\n",
        "      result[2] += 1\n",
        "  return result\n",
        "\n",
        "matches = ('h', 'a', 'b', 'u', 'u')\n",
        "print(home_draw_away(matches))"
      ],
      "execution_count": 2,
      "outputs": [
        {
          "output_type": "stream",
          "name": "stdout",
          "text": [
            "[1, 2, 1]\n"
          ]
        }
      ]
    },
    {
      "cell_type": "markdown",
      "metadata": {
        "id": "Ke1WrX1FnVHT"
      },
      "source": [
        "# Posisjon til alle vokaler i string"
      ]
    },
    {
      "cell_type": "code",
      "metadata": {
        "colab": {
          "base_uri": "https://localhost:8080/"
        },
        "id": "7rwaZfu0nZ24",
        "outputId": "2780363e-07d8-42d6-b1c3-1e24ada2a498"
      },
      "source": [
        "def pos_vocals(text):\n",
        "  vokal = 'aeiouyæøå'\n",
        "  text = text.lower()\n",
        "  posisjon = []\n",
        "  i = 0\n",
        "  for bokstav in text:\n",
        "    if bokstav in vokal:\n",
        "      posisjon.append(i)\n",
        "    i += 1\n",
        "  return posisjon\n",
        "\n",
        "streng_med_vokaler = 'Dette er en Lang StrEng mEd vokaler'\n",
        "print(pos_vocals(streng_med_vokaler))"
      ],
      "execution_count": 5,
      "outputs": [
        {
          "output_type": "stream",
          "name": "stdout",
          "text": [
            "[1, 4, 6, 9, 13, 20, 25, 29, 31, 33]\n"
          ]
        }
      ]
    },
    {
      "cell_type": "markdown",
      "metadata": {
        "id": "hmJGX1LF1aFR"
      },
      "source": [
        "# Finn unike forkomster av ord i streng"
      ]
    },
    {
      "cell_type": "code",
      "metadata": {
        "colab": {
          "base_uri": "https://localhost:8080/"
        },
        "id": "Ev1DlcVg1iYT",
        "outputId": "5950aad3-1d50-4aed-fba3-54fd2ddced5c"
      },
      "source": [
        "def unique(test):\n",
        "  liste = test.lower().split() # lager liste med ord\n",
        "  tegn = '.,:;?!-_*@+' # definerer tegn som skal fjernes\n",
        "  unikeOrd = [] # nullstiller liste\n",
        "  for i in range(len(liste)):\n",
        "    if liste[i][-1] in tegn: # Hvis siste tegn i et ord er ulovlig\n",
        "      liste[i] = liste[i][:-1] # fjern det\n",
        "    if liste[i] not in unikeOrd:\n",
        "      unikeOrd.append(liste[i])\n",
        "  return unikeOrd\n",
        "\n",
        "test = 'dette er et Ord dette Dette katt Katt'\n",
        "\n",
        "print(unique(test))"
      ],
      "execution_count": 6,
      "outputs": [
        {
          "output_type": "stream",
          "name": "stdout",
          "text": [
            "['dette', 'er', 'et', 'ord', 'katt']\n"
          ]
        }
      ]
    },
    {
      "cell_type": "markdown",
      "metadata": {
        "id": "0_QG4fvz1KHE"
      },
      "source": [
        "# User input"
      ]
    },
    {
      "cell_type": "code",
      "metadata": {
        "colab": {
          "base_uri": "https://localhost:8080/"
        },
        "id": "h15fBpGA3Iyz",
        "outputId": "d6cc6eca-6556-4f03-ae0e-c00b1a7381ae"
      },
      "source": [
        "def calculate():\n",
        "  comp = input('Enter calculation: ').replace(',','.').replace(' ','')\n",
        "  minliste = comp.split('+') # splitter først på +\n",
        "  mellomliste = []\n",
        "  summ = 0\n",
        "  for el in minliste: # går gjennom element for element\n",
        "    if '-' in el: # hvis tegnet - finnes i element\n",
        "      delliste = el.split('-') # splitt på -\n",
        "      summ += float(delliste[0]) # legg til det første elementet\n",
        "      for i in range(1,len(delliste)): #trekk fra de andre\n",
        "        summ -= float(delliste[i])\n",
        "    else:\n",
        "      summ += float(el)\n",
        "  print(f'Result: {summ:.2f}')\n",
        "\n",
        "calculate()"
      ],
      "execution_count": 13,
      "outputs": [
        {
          "output_type": "stream",
          "name": "stdout",
          "text": [
            "Enter calculation: 1 + 1 + 1 + 1\n",
            "Result: 4.00\n"
          ]
        }
      ]
    },
    {
      "cell_type": "markdown",
      "metadata": {
        "id": "dqdLaQqX3e2i"
      },
      "source": [
        "# Bytt ut tegn i streng med et annet tegn"
      ]
    },
    {
      "cell_type": "code",
      "metadata": {
        "colab": {
          "base_uri": "https://localhost:8080/"
        },
        "id": "r3oi-dFx3lgR",
        "outputId": "ee3cfe92-cb59-4674-bfc8-2bf8a3760464"
      },
      "source": [
        "tall_med_komma = '1,4'\n",
        "tall_med_punktum = tall.replace(',', '.')\n",
        "print(tall_med_punktum)"
      ],
      "execution_count": 15,
      "outputs": [
        {
          "output_type": "stream",
          "name": "stdout",
          "text": [
            "1.4\n"
          ]
        }
      ]
    },
    {
      "cell_type": "markdown",
      "metadata": {
        "id": "tYUXkojW41lE"
      },
      "source": [
        "# Fjern mellomrom"
      ]
    },
    {
      "cell_type": "code",
      "metadata": {
        "colab": {
          "base_uri": "https://localhost:8080/"
        },
        "id": "6xGRfjGo44Nx",
        "outputId": "a929a2d5-d620-436a-ef29-f4eeeb006ad2"
      },
      "source": [
        "streng_med_mellomrom = 'hei du'\n",
        "streng_uten_mellomrom = streng_med_mellomrom.replace(' ', '')\n",
        "print(streng_uten_mellomrom)"
      ],
      "execution_count": 16,
      "outputs": [
        {
          "output_type": "stream",
          "name": "stdout",
          "text": [
            "heidu\n"
          ]
        }
      ]
    },
    {
      "cell_type": "markdown",
      "metadata": {
        "id": "1zZFLLIJ4e40"
      },
      "source": [
        "# Split streng ved bestemt tegn"
      ]
    },
    {
      "cell_type": "code",
      "metadata": {
        "colab": {
          "base_uri": "https://localhost:8080/"
        },
        "id": "gpt695n_4h9S",
        "outputId": "5aed47af-22d1-4e63-8db6-91dc9021abff"
      },
      "source": [
        "comp = 'lol1+lol2+lol3+lol4'\n",
        "minliste = comp.split('+')\n",
        "print(minliste)"
      ],
      "execution_count": 19,
      "outputs": [
        {
          "output_type": "stream",
          "name": "stdout",
          "text": [
            "['lol1', 'lol2', 'lol3', 'lol4']\n"
          ]
        }
      ]
    },
    {
      "cell_type": "markdown",
      "metadata": {
        "id": "6JfTrCqz8C7h"
      },
      "source": [
        "# Seconds to time h:m:s (12:04:01)"
      ]
    },
    {
      "cell_type": "code",
      "metadata": {
        "colab": {
          "base_uri": "https://localhost:8080/",
          "height": 35
        },
        "id": "oYp6AmW48MqK",
        "outputId": "25fdc4af-f97b-4bbe-9fe4-079b0a6b2147"
      },
      "source": [
        "def sec_to_time(s):\n",
        "  time = s//3600\n",
        "  min = str((s-time*3600)//60)\n",
        "  sek = str((s-time*3600)%60)\n",
        "  if len(sek) < 2 :\n",
        "    sek = '0' + sek\n",
        "  if time > 0:\n",
        "    if len(min) < 2 :\n",
        "      min = '0' + min\n",
        "      return str(time) + ':' + min+':'+sek\n",
        "  else:\n",
        "    return min+':'+sek\n",
        "\n",
        "sec_to_time(seconds_total)"
      ],
      "execution_count": 29,
      "outputs": [
        {
          "output_type": "execute_result",
          "data": {
            "application/vnd.google.colaboratory.intrinsic+json": {
              "type": "string"
            },
            "text/plain": [
              "'2:01'"
            ]
          },
          "metadata": {},
          "execution_count": 29
        }
      ]
    },
    {
      "cell_type": "markdown",
      "metadata": {
        "id": "TaUEzBpP5tA7"
      },
      "source": [
        "Mitt forsøk"
      ]
    },
    {
      "cell_type": "code",
      "metadata": {
        "colab": {
          "base_uri": "https://localhost:8080/",
          "height": 35
        },
        "id": "6qQbyJvl5vHN",
        "outputId": "d87c9b2e-1bda-46bb-ffc9-d08f6b518597"
      },
      "source": [
        "seconds = 1\n",
        "minutes = 2\n",
        "hours = 0\n",
        "seconds_total = seconds + minutes * 60 + hours * 60 * 60\n",
        "\n",
        "def sec_to_time(seconds_total):\n",
        "  h = seconds_total // 3600\n",
        "  seconds_total -= h*3600\n",
        "\n",
        "  m = seconds_total // 60\n",
        "  seconds_total -= m*60\n",
        "\n",
        "  s = seconds_total\n",
        "\n",
        "  if m < 10:\n",
        "    m = '0' + str(m)\n",
        "  if s < 10:\n",
        "    s = '0' + str(s)\n",
        "\n",
        "  if str(h) == '0':\n",
        "    return str(m)+':'+str(s)\n",
        "  else:\n",
        "    return str(h)+':'+str(m)+':'+str(s)\n",
        "\n",
        "  \n",
        "sec_to_time(seconds_total)"
      ],
      "execution_count": 28,
      "outputs": [
        {
          "output_type": "execute_result",
          "data": {
            "application/vnd.google.colaboratory.intrinsic+json": {
              "type": "string"
            },
            "text/plain": [
              "'02:01'"
            ]
          },
          "metadata": {},
          "execution_count": 28
        }
      ]
    },
    {
      "cell_type": "markdown",
      "metadata": {
        "id": "r-9rxqkM8q2j"
      },
      "source": [
        "# (h:m:s) til sekunder"
      ]
    },
    {
      "cell_type": "code",
      "metadata": {
        "id": "u4GWAhlA-3gV"
      },
      "source": [
        "def time_to_sec(tstring):\n",
        "  liste = tstring.split(':')\n",
        "  sek = 0\n",
        "  if len(liste) == 1:\n",
        "    sek = int(liste[0])\n",
        "  elif len(liste) == 2:\n",
        "    sek = int(liste[0])*60 + int(liste[1])\n",
        "  else:\n",
        "    if liste[0] != '':\n",
        "      sek = int(liste[0])*3600\n",
        "    if liste[1] != '':\n",
        "      sek += int(liste[1])*60\n",
        "    if liste[2] != '':\n",
        "      sek += int(liste[2])\n",
        "  return sek"
      ],
      "execution_count": 157,
      "outputs": []
    },
    {
      "cell_type": "markdown",
      "metadata": {
        "id": "GI4CIz7--1F1"
      },
      "source": [
        "Min implementasjon"
      ]
    },
    {
      "cell_type": "markdown",
      "metadata": {
        "id": "Y48cKy6W_NnL"
      },
      "source": [
        "# Enter a song (correct format)"
      ]
    },
    {
      "cell_type": "code",
      "metadata": {
        "colab": {
          "base_uri": "https://localhost:8080/"
        },
        "id": "Kqr_RbufGPSj",
        "outputId": "c19d9b6b-aaed-41c5-fd81-966dd35149af"
      },
      "source": [
        "def feilmelding():\n",
        "  print('Ugyldige data! Formatet må være: Title;Artist;Genre;m:s')\n",
        "\n",
        "def enter_song():\n",
        "  print('Enter song (Title;Artist;Genre;m:s)')\n",
        "  while True:\n",
        "    sang = input('> ')\n",
        "    sang = sang.split(';')\n",
        "    if len(sang) != 4:\n",
        "      feilmelding()\n",
        "    else:\n",
        "      if len(sang[-1].split(':')) == 2:\n",
        "        min = sang[-1].split(':')[0]\n",
        "        sek = sang[-1].split(':')[1]\n",
        "        if min.isdigit() and sek.isdigit()\\\n",
        "          and int(min) < 60 and int(sek) < 60:\n",
        "            return sang\n",
        "        else:\n",
        "          feilmelding()\n",
        "      else:\n",
        "        feilmelding()\n",
        "\n",
        "enter_song()"
      ],
      "execution_count": 61,
      "outputs": [
        {
          "name": "stdout",
          "output_type": "stream",
          "text": [
            "Enter song (Title;Artist;Genre;m:s)\n",
            "> Africa;Toto;Rock;5:31\n"
          ]
        },
        {
          "output_type": "execute_result",
          "data": {
            "text/plain": [
              "['Africa', 'Toto', 'Rock', '5:31']"
            ]
          },
          "metadata": {},
          "execution_count": 61
        }
      ]
    },
    {
      "cell_type": "markdown",
      "metadata": {
        "id": "YirH50s9GNlK"
      },
      "source": [
        "Min implementasjon"
      ]
    },
    {
      "cell_type": "code",
      "metadata": {
        "colab": {
          "base_uri": "https://localhost:8080/"
        },
        "id": "SjveCT7pAPHx",
        "outputId": "620dd726-8aa2-44ed-89a0-552cd1900b6d"
      },
      "source": [
        "def enter_song():\n",
        "  print('Enter song (Title;Artist;Genre;m:s)')\n",
        "  streng = input('> ').split(';')\n",
        "  time = streng[3].split(':')\n",
        "\n",
        "  while ( (len(streng) != 4) or (int(time[1]) > 59) or (int(time[1]) < 0)  or (int(time[0]) < 0) ):\n",
        "    print('Ugyldige data')\n",
        "    streng = input('Enter song (Title;Artist;Genre;m:s)')\n",
        "\n",
        "  print(streng)\n",
        "\n",
        "enter_song() "
      ],
      "execution_count": 58,
      "outputs": [
        {
          "output_type": "stream",
          "name": "stdout",
          "text": [
            "Enter song (Title;Artist;Genre;m:s)\n",
            "> Africa;Toto;Rock;5:31\n",
            "['Africa', 'Toto', 'Rock', '5:31']\n"
          ]
        }
      ]
    },
    {
      "cell_type": "markdown",
      "metadata": {
        "id": "h0l7cZ1MHTY2"
      },
      "source": [
        "# Les linje for linje i fil"
      ]
    },
    {
      "cell_type": "code",
      "metadata": {
        "colab": {
          "base_uri": "https://localhost:8080/"
        },
        "id": "8SewaZTWHcwb",
        "outputId": "2c1567db-0d19-4a96-cc9d-b6ed38496b66"
      },
      "source": [
        "def read_file(filename):\n",
        "  f = open(filename,'r')\n",
        "  liste = []\n",
        "  for linje in f:\n",
        "    liste.append(linje.strip().split(';')) #.strip() fjerner mellomrom på starten og slutten av en streng\n",
        "  f.close()\n",
        "  return liste\n",
        "\n",
        "read_file('test.txt')"
      ],
      "execution_count": 113,
      "outputs": [
        {
          "output_type": "execute_result",
          "data": {
            "text/plain": [
              "[['Africa', 'Toto', 'Rock', '0:45'],\n",
              " ['Title1', 'Artist1', 'Rock', '0:43'],\n",
              " ['Title22', 'Artist2', 'Blues', '0:42']]"
            ]
          },
          "metadata": {},
          "execution_count": 113
        }
      ]
    },
    {
      "cell_type": "markdown",
      "metadata": {
        "id": "OVfoU4yDKNoP"
      },
      "source": [
        "# List content..."
      ]
    },
    {
      "cell_type": "markdown",
      "metadata": {
        "id": "wwBKRSMcPLEi"
      },
      "source": [
        "Min implementasjon"
      ]
    },
    {
      "cell_type": "code",
      "metadata": {
        "colab": {
          "base_uri": "https://localhost:8080/"
        },
        "id": "jLTw17p9KR6R",
        "outputId": "cc36ac9e-98be-45df-afc5-29da80f2c389"
      },
      "source": [
        "def list_content(filename, choice):\n",
        "  liste = read_file(filename)\n",
        "\n",
        "  choice = choice.lower()\n",
        "  if choice == 'title':\n",
        "    titles = set([x[0] for x in liste])\n",
        "    return list(titles)\n",
        "  elif choice == 'artist':\n",
        "    artists = set([x[1] for x in liste])\n",
        "    return list(artists)\n",
        "  elif choice == 'genre':\n",
        "    genres = set([x[2] for x in liste])\n",
        "    return list(genres)\n",
        "  else:\n",
        "    return []\n",
        "  \n",
        "list_content('test.txt', 'genre')"
      ],
      "execution_count": 119,
      "outputs": [
        {
          "output_type": "execute_result",
          "data": {
            "text/plain": [
              "['Blues', 'Rock']"
            ]
          },
          "metadata": {},
          "execution_count": 119
        }
      ]
    },
    {
      "cell_type": "markdown",
      "metadata": {
        "id": "KyQjiiEoO4mt"
      },
      "source": [
        "# List sanger av en viss sjanger (f string)"
      ]
    },
    {
      "cell_type": "code",
      "metadata": {
        "colab": {
          "base_uri": "https://localhost:8080/"
        },
        "id": "rLCQbK2NQ4o2",
        "outputId": "8bd92d45-12e8-42a0-e27e-1caecfeaa313"
      },
      "source": [
        "def list_songs_genre(filename):\n",
        "  content = read_file(filename)\n",
        "\n",
        "  available_genres = list_content(filename, 'genre')\n",
        "\n",
        "  genre = input(f'Choose genre {available_genres}:').lower()\n",
        "\n",
        "  available_genres = [x.lower() for x in available_genres]\n",
        "\n",
        "  if genre not in available_genres: return [], '0:0'\n",
        "\n",
        "  song_list = []\n",
        "  total_time = 0\n",
        "  for song in content:\n",
        "    if song[2].lower() == genre:\n",
        "      song_list.append([song[0], song[1], song[3]])\n",
        "      total_time += time_to_sec(song[3])\n",
        "\n",
        "  return song_list, sec_to_time(total_time)\n",
        "\n",
        "list_songs_genre('test.txt')"
      ],
      "execution_count": 158,
      "outputs": [
        {
          "name": "stdout",
          "output_type": "stream",
          "text": [
            "Choose genre ['Blues', 'Rock']:rock\n"
          ]
        },
        {
          "output_type": "execute_result",
          "data": {
            "text/plain": [
              "([['Africa', 'Toto', '0:45'], ['Title1', 'Artist1', '1:43']], '2:28')"
            ]
          },
          "metadata": {},
          "execution_count": 158
        }
      ]
    },
    {
      "cell_type": "markdown",
      "metadata": {
        "id": "7gWDG-SLXo3p"
      },
      "source": [
        "# Pretty print (f print og venstrejustert)"
      ]
    },
    {
      "cell_type": "code",
      "metadata": {
        "colab": {
          "base_uri": "https://localhost:8080/"
        },
        "id": "WsmjqbCiXq3C",
        "outputId": "96d39574-7a32-4e86-efcb-702b733c7e25"
      },
      "source": [
        "def pretty_print(filename):\n",
        "  songs, total_time = list_songs_genre(filename)\n",
        "\n",
        "  print(f'\\n{\"Artist\":<20}{\"Title\":<30}{\"Time\"}')\n",
        "\n",
        "  for el in songs:\n",
        "    print(f'{el[1][0:19]:<20}{el[0][0:29]:<30}{el[2]}')\n",
        "  print(f'\\nTotal tid:{total_time:>10}')\n",
        "\n",
        "pretty_print('test.txt')"
      ],
      "execution_count": 169,
      "outputs": [
        {
          "output_type": "stream",
          "name": "stdout",
          "text": [
            "Choose genre ['Blues', 'Rock']:rock\n",
            "\n",
            "Artist              Title                         Time\n",
            "Toto                Africa                        0:45\n",
            "Artist1             Title1                        1:43\n",
            "\n",
            "Total tid:      2:28\n"
          ]
        }
      ]
    },
    {
      "cell_type": "markdown",
      "metadata": {
        "id": "n9NFFHJhizFy"
      },
      "source": [
        "# Skriv til fil"
      ]
    },
    {
      "cell_type": "code",
      "metadata": {
        "colab": {
          "base_uri": "https://localhost:8080/"
        },
        "id": "x1BBNK4Gi1ZJ",
        "outputId": "5cb27f76-02d3-4a34-d8b9-9c5150d352cd"
      },
      "source": [
        "def append_to_file(filename,text):\n",
        "  f = open(filename,'a')\n",
        "  f.write(text)\n",
        "  f.close()\n",
        "\n",
        "def add_song_to_file(filename):\n",
        "  new_song = enter_song()\n",
        "  streng = '\\n'+';'.join(new_song)\n",
        "\n",
        "  song_list = read_file(filename)\n",
        "\n",
        "  exists = False\n",
        "  for i in range(len(song_list)):\n",
        "    if new_song[0] == song_list[i][0] and new_song[1] == song_list[i][1]:\n",
        "      print(f'{new_song[0]} already exists in {filename}')\n",
        "      exists = True\n",
        "      break\n",
        "\n",
        "  if not exists:\n",
        "    append_to_file(filename,streng)\n",
        "    print(f'{new_song[0]} has been added to {filename}')\n",
        "\n",
        "add_song_to_file('test.txt')\n"
      ],
      "execution_count": 189,
      "outputs": [
        {
          "output_type": "stream",
          "name": "stdout",
          "text": [
            "Enter song (Title;Artist;Genre;m:s)\n",
            "> sdfds;sdfsfd;sdfsdf;34:45\n",
            "sdfds has been added to test.txt\n"
          ]
        }
      ]
    },
    {
      "cell_type": "markdown",
      "metadata": {
        "id": "p8cBPVn5pnAc"
      },
      "source": [
        "# List of strings to one string seperated by a symbol"
      ]
    },
    {
      "cell_type": "code",
      "metadata": {
        "colab": {
          "base_uri": "https://localhost:8080/"
        },
        "id": "vkI1EPvuptwB",
        "outputId": "8e28ca6e-8398-47fc-cb96-97c3d9c6a932"
      },
      "source": [
        "liste = ['en', 'to', 'tre']\n",
        "streng = ','.join(liste)\n",
        "print(streng)"
      ],
      "execution_count": 187,
      "outputs": [
        {
          "output_type": "stream",
          "name": "stdout",
          "text": [
            "en,to,tre\n"
          ]
        }
      ]
    }
  ]
}